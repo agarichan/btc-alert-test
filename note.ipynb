{
 "cells": [
  {
   "cell_type": "code",
   "execution_count": 17,
   "metadata": {},
   "outputs": [
    {
     "data": {
      "text/plain": [
       "['BTC/USDT',\n",
       " 'BTC/TUSD',\n",
       " 'BTC/PAX',\n",
       " 'BTC/USDC',\n",
       " 'BTC/USDS',\n",
       " 'BTC/BUSD',\n",
       " 'BTC/NGN',\n",
       " 'BTC/RUB',\n",
       " 'BTC/TRY',\n",
       " 'BTC/EUR',\n",
       " 'BTC/ZAR',\n",
       " 'BTC/BKRW',\n",
       " 'BTC/IDRT',\n",
       " 'BTC/GBP',\n",
       " 'BTC/UAH',\n",
       " 'BTC/BIDR',\n",
       " 'BTC/AUD',\n",
       " 'BTC/DAI',\n",
       " 'WBTC/BTC',\n",
       " 'WBTC/ETH',\n",
       " 'BTC/BRL',\n",
       " 'RENBTC/BTC',\n",
       " 'RENBTC/ETH',\n",
       " 'BTC/VAI',\n",
       " 'BTC/GYEN',\n",
       " 'BTC/USDP']"
      ]
     },
     "execution_count": 17,
     "metadata": {},
     "output_type": "execute_result"
    }
   ],
   "source": [
    "import ccxt\n",
    "\n",
    "ex = ccxt.binance()\n",
    "\n",
    "[k for k in ex.load_markets().keys() if 'BTC/' in k]"
   ]
  },
  {
   "cell_type": "code",
   "execution_count": 26,
   "metadata": {},
   "outputs": [
    {
     "data": {
      "text/plain": [
       "OHLCV(time=datetime.datetime(2021, 12, 4, 4, 56, tzinfo=datetime.timezone.utc), open=49686.41, high=49998.95, low=49188.0, close=49768.1, volume=622.54111)"
      ]
     },
     "execution_count": 26,
     "metadata": {},
     "output_type": "execute_result"
    }
   ],
   "source": [
    "from datetime import datetime\n",
    "\n",
    "from pydantic import BaseModel\n",
    "\n",
    "class OHLCV(BaseModel):\n",
    "    time: datetime\n",
    "    open: float\n",
    "    high: float\n",
    "    low: float\n",
    "    close: float\n",
    "    volume: float\n",
    "\n",
    "    @classmethod\n",
    "    def from_list(cls, values: list):\n",
    "        return cls.parse_obj(dict(zip(OHLCV.__fields__.keys(), values)))\n",
    "\n",
    "\n",
    "ohlcv = [OHLCV.from_list(x) for x in ex.fetch_ohlcv(symbol='BTC/USDT')]\n",
    "ohlcv[-1]"
   ]
  },
  {
   "cell_type": "code",
   "execution_count": 31,
   "metadata": {},
   "outputs": [
    {
     "data": {
      "text/plain": [
       "{'time': '2021-12-04T05:07:11.082Z', 'price': 52749.505000000005}"
      ]
     },
     "execution_count": 31,
     "metadata": {},
     "output_type": "execute_result"
    }
   ],
   "source": [
    "ticker = ex.fetch_ticker(symbol='BTC/USDT')\n",
    "\n",
    "info = dict(time=ticker['datetime'], price=ticker['average'])\n",
    "info"
   ]
  }
 ],
 "metadata": {
  "interpreter": {
   "hash": "376a7a5d43b9eb2713af075a0f05676751a2af0cb9b7b1d8b2e105051c5c3fe9"
  },
  "kernelspec": {
   "display_name": "Python 3.9.8 64-bit ('.venv': poetry)",
   "language": "python",
   "name": "python3"
  },
  "language_info": {
   "codemirror_mode": {
    "name": "ipython",
    "version": 3
   },
   "file_extension": ".py",
   "mimetype": "text/x-python",
   "name": "python",
   "nbconvert_exporter": "python",
   "pygments_lexer": "ipython3",
   "version": "3.9.8"
  },
  "orig_nbformat": 4
 },
 "nbformat": 4,
 "nbformat_minor": 2
}
